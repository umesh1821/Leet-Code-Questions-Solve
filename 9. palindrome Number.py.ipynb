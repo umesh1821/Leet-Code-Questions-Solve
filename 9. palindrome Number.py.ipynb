{
 "cells": [
  {
   "cell_type": "code",
   "execution_count": null,
   "id": "c177a694",
   "metadata": {},
   "outputs": [],
   "source": [
    "class Solution:\n",
    "    def isPalindrome(self, x: int) -> bool:\n",
    "        x1=x\n",
    "        if(x<0):\n",
    "            return False\n",
    "        else:\n",
    "            c=0\n",
    "            res=0\n",
    "            while(x>0):\n",
    "                n=x%10\n",
    "                x=x//10\n",
    "                if(c>=1):\n",
    "                    res=res*10 + n\n",
    "                else:\n",
    "                    res = n\n",
    "                c=c+1\n",
    "            if(res==x1):\n",
    "                return True\n",
    "            else:\n",
    "                return False"
   ]
  }
 ],
 "metadata": {
  "kernelspec": {
   "display_name": "VirtualEnvironment",
   "language": "python",
   "name": "virtualenvironment"
  },
  "language_info": {
   "codemirror_mode": {
    "name": "ipython",
    "version": 3
   },
   "file_extension": ".py",
   "mimetype": "text/x-python",
   "name": "python",
   "nbconvert_exporter": "python",
   "pygments_lexer": "ipython3",
   "version": "3.11.5"
  }
 },
 "nbformat": 4,
 "nbformat_minor": 5
}
